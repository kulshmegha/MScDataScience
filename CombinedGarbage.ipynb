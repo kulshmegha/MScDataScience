{
 "cells": [
  {
   "cell_type": "code",
   "execution_count": 61,
   "metadata": {
    "collapsed": true
   },
   "outputs": [
    {
     "name": "stdout",
     "output_type": "stream",
     "text": [
      "Difference of Total  minus Sum of Individual   -5858.196406143368\n",
      "Difference of Mean  -32.36572600079194\n",
      "Difference of MSEs  Collection Date\n",
      "2021-02-01    773.96\n",
      "2021-02-02    720.90\n",
      "2021-02-03    744.60\n",
      "2021-02-04    742.26\n",
      "2021-02-05    735.06\n",
      "               ...  \n",
      "2021-07-27    737.48\n",
      "2021-07-28    743.60\n",
      "2021-07-29    740.56\n",
      "2021-07-30    743.74\n",
      "2021-07-31    742.44\n",
      "Freq: D, Name: predicted_mean, Length: 181, dtype: float64\n"
     ]
    }
   ],
   "source": [
    "%store -r dtd\n",
    "%store -r cd\n",
    "%store -r gb\n",
    "%store -r pv\n",
    "%store -r total\n",
    "\n",
    "\n",
    "difference = float(total[\"forecast\"].sum()) - (float(dtd[\"forecast\"].sum()) + float(cd[\"forecast\"].sum()) + float(gb[\"forecast\"].sum()) + float(pv[\"forecast\"].sum()))\n",
    "print(\"Difference of Total  minus Sum of Individual  \",difference)\n",
    "difference = total[\"forecast\"].mean() - (dtd[\"forecast\"].mean() + cd[\"forecast\"].mean() + gb[\"forecast\"].mean()+pv[\"forecast\"].mean())\n",
    "print(\"Difference of Mean \",difference)\n",
    "\n",
    "difference = total[\"mse\"] - (dtd[\"mse\"] + cd[\"mse\"] + gb[\"mse\"] + pv[\"mse\"])\n",
    "\n",
    "print(\"Difference of MSEs \",difference)\n",
    "\n",
    "\n"
   ]
  },
  {
   "cell_type": "code",
   "execution_count": null,
   "outputs": [],
   "source": [
    "\n"
   ],
   "metadata": {
    "collapsed": false,
    "pycharm": {
     "name": "#%%\n"
    }
   }
  }
 ],
 "metadata": {
  "kernelspec": {
   "display_name": "Python 3",
   "language": "python",
   "name": "python3"
  },
  "language_info": {
   "codemirror_mode": {
    "name": "ipython",
    "version": 2
   },
   "file_extension": ".py",
   "mimetype": "text/x-python",
   "name": "python",
   "nbconvert_exporter": "python",
   "pygments_lexer": "ipython2",
   "version": "2.7.6"
  }
 },
 "nbformat": 4,
 "nbformat_minor": 0
}